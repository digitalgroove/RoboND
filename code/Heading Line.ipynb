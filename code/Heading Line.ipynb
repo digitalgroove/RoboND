{
 "cells": [
  {
   "cell_type": "code",
   "execution_count": 2,
   "metadata": {},
   "outputs": [
    {
     "name": "stdout",
     "output_type": "stream",
     "text": [
      "[(0, 0), (1, 1), (2, 2), (3, 2), (4, 3), (5, 4), (6, 5), (7, 6), (8, 6), (9, 7), (10, 8), (11, 9), (12, 10), (13, 10), (14, 11), (15, 12), (16, 13), (17, 14), (18, 14), (19, 15), (20, 16), (21, 17), (22, 18), (23, 18), (24, 19), (25, 20), (26, 21), (27, 22), (28, 22), (29, 23), (30, 24), (31, 25), (32, 26), (33, 26), (34, 27), (35, 28), (36, 29), (37, 30), (38, 30), (39, 31), (40, 32), (41, 33), (42, 34), (43, 34), (44, 35), (45, 36), (46, 37), (47, 38), (48, 38), (49, 39), (50, 40)]\n",
      "[(50, 40), (49, 39), (48, 38), (47, 38), (46, 37), (45, 36), (44, 35), (43, 34), (42, 34), (41, 33), (40, 32), (39, 31), (38, 30), (37, 30), (36, 29), (35, 28), (34, 27), (33, 26), (32, 26), (31, 25), (30, 24), (29, 23), (28, 22), (27, 22), (26, 21), (25, 20), (24, 19), (23, 18), (22, 18), (21, 17), (20, 16), (19, 15), (18, 14), (17, 14), (16, 13), (15, 12), (14, 11), (13, 10), (12, 10), (11, 9), (10, 8), (9, 7), (8, 6), (7, 6), (6, 5), (5, 4), (4, 3), (3, 2), (2, 2), (1, 1), (0, 0)]\n"
     ]
    }
   ],
   "source": [
    "def get_line(start, end):\n",
    "    \"\"\"Bresenham's Line Algorithm\n",
    "    Produces a list of tuples from start and end\n",
    " \n",
    "    >>> points1 = get_line((0, 0), (3, 4))\n",
    "    >>> points2 = get_line((3, 4), (0, 0))\n",
    "    >>> assert(set(points1) == set(points2))\n",
    "    >>> print points1\n",
    "    [(0, 0), (1, 1), (1, 2), (2, 3), (3, 4)]\n",
    "    >>> print points2\n",
    "    [(3, 4), (2, 3), (1, 2), (1, 1), (0, 0)]\n",
    "    \"\"\"\n",
    "    # Setup initial conditions\n",
    "    x1, y1 = start\n",
    "    x2, y2 = end\n",
    "    dx = x2 - x1\n",
    "    dy = y2 - y1\n",
    " \n",
    "    # Determine how steep the line is\n",
    "    is_steep = abs(dy) > abs(dx)\n",
    " \n",
    "    # Rotate line\n",
    "    if is_steep:\n",
    "        x1, y1 = y1, x1\n",
    "        x2, y2 = y2, x2\n",
    " \n",
    "    # Swap start and end points if necessary and store swap state\n",
    "    swapped = False\n",
    "    if x1 > x2:\n",
    "        x1, x2 = x2, x1\n",
    "        y1, y2 = y2, y1\n",
    "        swapped = True\n",
    " \n",
    "    # Recalculate differentials\n",
    "    dx = x2 - x1\n",
    "    dy = y2 - y1\n",
    " \n",
    "    # Calculate error\n",
    "    error = int(dx / 2.0)\n",
    "    ystep = 1 if y1 < y2 else -1\n",
    " \n",
    "    # Iterate over bounding box generating points between start and end\n",
    "    y = y1\n",
    "    points = []\n",
    "    for x in range(x1, x2 + 1):\n",
    "        coord = (y, x) if is_steep else (x, y)\n",
    "        points.append(coord)\n",
    "        error -= abs(dy)\n",
    "        if error < 0:\n",
    "            y += ystep\n",
    "            error += dx\n",
    " \n",
    "    # Reverse the list if the coordinates were swapped\n",
    "    if swapped:\n",
    "        points.reverse()\n",
    "    return points\n",
    "\n",
    "points1 = get_line((0, 0), (50, 40))\n",
    "points2 = get_line((50, 40), (0, 0))\n",
    "assert(set(points1) == set(points2))\n",
    "print (points1)\n",
    "print (points2)"
   ]
  },
  {
   "cell_type": "markdown",
   "metadata": {},
   "source": [
    "Rover transformed vision image is y=160, x=320"
   ]
  },
  {
   "cell_type": "code",
   "execution_count": 4,
   "metadata": {},
   "outputs": [
    {
     "name": "stdout",
     "output_type": "stream",
     "text": [
      "(198.8228567653781, 304.88887394336024)\n"
     ]
    }
   ],
   "source": [
    "from math import sin, cos, radians, pi\n",
    "def point_pos(x0, y0, d, theta_degrees):\n",
    "    \"\"\"   \"\"\"\n",
    "    theta_rad = pi/2 - radians(theta_degrees)\n",
    "    return x0 + d*cos(theta_rad), y0 + d*sin(theta_rad)\n",
    "\n",
    "top_point = point_pos(160, 160, 150, 15)\n",
    "\n",
    "print(top_point)"
   ]
  },
  {
   "cell_type": "code",
   "execution_count": 25,
   "metadata": {},
   "outputs": [
    {
     "name": "stdout",
     "output_type": "stream",
     "text": [
      "[[1. 1. 1. 1. 1. 1. 1. 1. 1. 1. 0. 0. 0. 0. 0. 0. 0. 0. 0. 0.]\n",
      " [1. 1. 1. 1. 1. 1. 1. 1. 1. 1. 0. 0. 0. 0. 0. 0. 0. 0. 0. 0.]\n",
      " [1. 1. 1. 1. 1. 1. 1. 1. 1. 1. 0. 0. 0. 0. 0. 0. 0. 0. 0. 0.]\n",
      " [1. 1. 1. 1. 1. 1. 1. 1. 1. 1. 0. 0. 0. 0. 0. 0. 0. 0. 0. 0.]\n",
      " [1. 1. 1. 1. 1. 1. 1. 1. 1. 1. 0. 0. 0. 0. 0. 0. 0. 0. 0. 0.]\n",
      " [1. 1. 1. 1. 1. 1. 1. 1. 1. 1. 0. 0. 0. 0. 0. 0. 0. 0. 0. 0.]\n",
      " [1. 1. 1. 1. 1. 1. 1. 1. 1. 1. 0. 0. 0. 0. 0. 0. 0. 0. 0. 0.]\n",
      " [1. 1. 1. 1. 1. 1. 1. 1. 1. 1. 0. 0. 0. 0. 0. 0. 0. 0. 0. 0.]\n",
      " [1. 1. 1. 1. 1. 1. 1. 1. 1. 1. 0. 0. 0. 0. 0. 0. 0. 0. 0. 0.]\n",
      " [1. 1. 1. 1. 1. 1. 1. 1. 1. 1. 0. 0. 0. 0. 0. 0. 0. 0. 0. 0.]\n",
      " [0. 0. 0. 0. 0. 0. 0. 0. 0. 0. 0. 0. 0. 0. 0. 0. 0. 0. 0. 0.]\n",
      " [0. 0. 0. 0. 0. 0. 0. 0. 0. 0. 0. 0. 0. 0. 0. 0. 0. 0. 0. 0.]\n",
      " [0. 0. 0. 0. 0. 0. 0. 0. 0. 0. 0. 0. 0. 0. 0. 0. 0. 0. 0. 0.]\n",
      " [0. 0. 0. 0. 0. 0. 0. 0. 0. 0. 0. 0. 0. 0. 0. 0. 0. 0. 0. 0.]\n",
      " [0. 0. 0. 0. 0. 0. 0. 0. 0. 0. 0. 0. 0. 0. 0. 0. 0. 0. 0. 0.]\n",
      " [0. 0. 0. 0. 0. 0. 0. 0. 0. 0. 0. 0. 0. 0. 0. 0. 0. 0. 0. 0.]\n",
      " [0. 0. 0. 0. 0. 0. 0. 0. 0. 0. 0. 0. 0. 0. 0. 0. 0. 0. 0. 0.]\n",
      " [0. 0. 0. 0. 0. 0. 0. 0. 0. 0. 0. 0. 0. 0. 0. 0. 0. 0. 0. 0.]\n",
      " [0. 0. 0. 0. 0. 0. 0. 0. 0. 0. 0. 0. 0. 0. 0. 0. 0. 0. 0. 0.]\n",
      " [0. 0. 0. 0. 0. 0. 0. 0. 0. 0. 0. 0. 0. 0. 0. 0. 0. 0. 0. 0.]]\n"
     ]
    }
   ],
   "source": [
    "import numpy as np\n",
    "\n",
    "driving_mask = np.zeros((20, 20))\n",
    "\n",
    "driving_mask[:10,:10] = 1 # assign ones to a range of rows and columns\n",
    "# driving_mask[:,[1,2]] = 1 # select all rows and specific columns\n",
    "print (driving_mask)"
   ]
  },
  {
   "cell_type": "code",
   "execution_count": 10,
   "metadata": {},
   "outputs": [
    {
     "name": "stdout",
     "output_type": "stream",
     "text": [
      "[[0. 0. 0. 0. 0. 0. 0. 0. 0. 0. 0. 0. 0. 0. 0. 0. 0. 0. 0. 0. 0. 0. 0. 0.]\n",
      " [0. 0. 0. 0. 0. 0. 0. 0. 0. 0. 0. 0. 0. 0. 0. 0. 0. 0. 0. 0. 0. 0. 0. 0.]\n",
      " [1. 1. 1. 1. 1. 1. 1. 1. 1. 1. 1. 1. 1. 1. 1. 1. 1. 1. 1. 1. 1. 1. 0. 0.]\n",
      " [1. 1. 1. 1. 1. 1. 1. 1. 1. 1. 1. 1. 1. 1. 1. 1. 1. 1. 1. 1. 1. 1. 0. 0.]\n",
      " [1. 1. 1. 1. 1. 1. 1. 1. 1. 1. 1. 1. 1. 1. 1. 1. 1. 1. 1. 1. 1. 1. 0. 0.]\n",
      " [0. 0. 0. 0. 0. 0. 0. 0. 0. 0. 0. 0. 0. 0. 0. 0. 0. 0. 0. 0. 0. 0. 0. 0.]\n",
      " [0. 0. 0. 0. 0. 0. 0. 0. 0. 0. 0. 0. 0. 0. 0. 0. 0. 0. 0. 0. 0. 0. 0. 0.]\n",
      " [0. 0. 0. 0. 0. 0. 0. 0. 0. 0. 0. 0. 0. 0. 0. 0. 0. 0. 0. 0. 0. 0. 0. 0.]\n",
      " [0. 0. 0. 0. 0. 0. 0. 0. 0. 0. 0. 0. 0. 0. 0. 0. 0. 0. 0. 0. 0. 0. 0. 0.]\n",
      " [0. 0. 0. 0. 0. 0. 0. 0. 0. 0. 0. 0. 0. 0. 0. 0. 0. 0. 0. 0. 0. 0. 0. 0.]\n",
      " [0. 0. 0. 0. 0. 0. 0. 0. 0. 0. 0. 0. 0. 0. 0. 0. 0. 0. 0. 0. 0. 0. 0. 0.]\n",
      " [0. 0. 0. 0. 0. 0. 0. 0. 0. 0. 0. 0. 0. 0. 0. 0. 0. 0. 0. 0. 0. 0. 0. 0.]\n",
      " [0. 0. 0. 0. 0. 0. 0. 0. 0. 0. 0. 0. 0. 0. 0. 0. 0. 0. 0. 0. 0. 0. 0. 0.]\n",
      " [0. 0. 0. 0. 0. 0. 0. 0. 0. 0. 0. 0. 0. 0. 0. 0. 0. 0. 0. 0. 0. 0. 0. 0.]\n",
      " [0. 0. 0. 0. 0. 0. 0. 0. 0. 0. 0. 0. 0. 0. 0. 0. 0. 0. 0. 0. 0. 0. 0. 0.]\n",
      " [0. 0. 0. 0. 0. 0. 0. 0. 0. 0. 0. 0. 0. 0. 0. 0. 0. 0. 0. 0. 0. 0. 0. 0.]\n",
      " [0. 0. 0. 0. 0. 0. 0. 0. 0. 0. 0. 0. 0. 0. 0. 0. 0. 0. 0. 0. 0. 0. 0. 0.]\n",
      " [0. 0. 0. 0. 0. 0. 0. 0. 0. 0. 0. 0. 0. 0. 0. 0. 0. 0. 0. 0. 0. 0. 0. 0.]\n",
      " [0. 0. 0. 0. 0. 0. 0. 0. 0. 0. 0. 0. 0. 0. 0. 0. 0. 0. 0. 0. 0. 0. 0. 0.]\n",
      " [0. 0. 0. 0. 0. 0. 0. 0. 0. 0. 0. 0. 0. 0. 0. 0. 0. 0. 0. 0. 0. 0. 0. 0.]\n",
      " [0. 0. 0. 0. 0. 0. 0. 0. 0. 0. 0. 0. 0. 0. 0. 0. 0. 0. 0. 0. 0. 0. 0. 0.]\n",
      " [0. 0. 0. 0. 0. 0. 0. 0. 0. 0. 0. 0. 0. 0. 0. 0. 0. 0. 0. 0. 0. 0. 0. 0.]\n",
      " [0. 0. 0. 0. 0. 0. 0. 0. 0. 0. 0. 0. 0. 0. 0. 0. 0. 0. 0. 0. 0. 0. 0. 0.]\n",
      " [0. 0. 0. 0. 0. 0. 0. 0. 0. 0. 0. 0. 0. 0. 0. 0. 0. 0. 0. 0. 0. 0. 0. 0.]]\n"
     ]
    }
   ],
   "source": [
    "import numpy as np\n",
    "\n",
    "driving_mask = np.zeros((24, 24)) # initialize matrix of zeros \n",
    "\n",
    "driving_mask.shape[1], driving_mask.shape[0] # .shape = (rows, col)\n",
    "\n",
    "H_start_percent = 0 # percent value\n",
    "H_end_percent = 90 # percent value\n",
    "V_start_percent = 10 # percent value\n",
    "V_end_percent = 20 # percent value\n",
    "\n",
    "def remap_values(value, inMin, inMax, outMin, outMax):\n",
    "    # Figure out how 'wide' each range is\n",
    "    inSpan = inMax - inMin\n",
    "    outSpan = outMax - outMin\n",
    "\n",
    "    # Convert the left range into a 0-1 range (float)\n",
    "    valueScaled = float(value - inMin) / float(inSpan)\n",
    "\n",
    "    # Convert the 0-1 range into a value in the right range.\n",
    "    return outMin + (valueScaled * outSpan)\n",
    "\n",
    "H_start_col = int(round(remap_values(H_start_percent, 0, 100, 0, driving_mask.shape[1])))\n",
    "# print(H_start_col)\n",
    "H_end_col = int(round(remap_values(H_end_percent, 0, 100, 0, driving_mask.shape[1])))\n",
    "# print(H_end_col)\n",
    "V_start_col = int(round(remap_values(V_start_percent, 0, 100, 0, driving_mask.shape[0])))\n",
    "# print(V_start_col)\n",
    "V_end_col = int(round(remap_values(V_end_percent, 0, 100, 0, driving_mask.shape[0])))\n",
    "# print(V_end_col)\n",
    "\n",
    "driving_mask[V_start_col:V_end_col,H_start_col:H_end_col] = 1 # select range of rows and columns\n",
    "# driving_mask[:,[1,2]] = 1 # select all rows and specific columns\n",
    "print (driving_mask)\n",
    "\n"
   ]
  },
  {
   "cell_type": "code",
   "execution_count": 27,
   "metadata": {},
   "outputs": [
    {
     "name": "stdout",
     "output_type": "stream",
     "text": [
      "elem: [120, 20]\n",
      "elem: [120, 30]\n"
     ]
    }
   ],
   "source": [
    "rock_xcen = 120\n",
    "rock_ycen = 30\n",
    "rock_list = [[120,20]]\n",
    "\n",
    "if rock_list:\n",
    "    for elem in rock_list:\n",
    "        print(\"elem:\", elem)\n",
    "        if (elem[0] != rock_xcen) or (elem[1] != rock_ycen):\n",
    "            rock_list.append([rock_xcen, rock_ycen])\n",
    "else:\n",
    "    print(\"empty list\")"
   ]
  },
  {
   "cell_type": "code",
   "execution_count": 35,
   "metadata": {},
   "outputs": [
    {
     "name": "stdout",
     "output_type": "stream",
     "text": [
      "[(120, 30)]\n"
     ]
    }
   ],
   "source": [
    "rock_xcen = 120\n",
    "rock_ycen = 30\n",
    "\n",
    "rock_list = []\n",
    "\n",
    "if (rock_xcen, rock_ycen) not in rock_list:\n",
    "    rock_list.append((rock_xcen, rock_ycen))\n",
    "print(rock_list)\n",
    "\n",
    "                     "
   ]
  },
  {
   "cell_type": "code",
   "execution_count": 64,
   "metadata": {},
   "outputs": [
    {
     "name": "stdout",
     "output_type": "stream",
     "text": [
      "[(10, 20), (25, 25), (2, 2)]\n"
     ]
    }
   ],
   "source": [
    "rock_list = [(10, 20), (25,25), (2,2)]\n",
    "#rock_xcen, rock_ycen = 100, 100\n",
    "rock_xcen, rock_ycen = 2, 2\n",
    "\n",
    "# add to rock_list only if coordinates do not already exist in list\n",
    "if not any(rock_list):\n",
    "    #if list is empty\n",
    "    rock_list.append((rock_xcen, rock_ycen))\n",
    "else:\n",
    "    for idx in range(len(rock_list)):\n",
    "        test_rock_x = rock_list[idx][0]\n",
    "        test_rock_y = rock_list[idx][1]\n",
    "        rock_sample_dists = np.sqrt((test_rock_x - rock_xcen)**2 + \\\n",
    "                                      (test_rock_y - rock_ycen)**2)\n",
    "             # If rocks were detected within 3 meters of known sample positions\n",
    "        if rock_sample_dists < 3:\n",
    "            add_candidate = False\n",
    "            break\n",
    "        else:\n",
    "            add_candidate = True\n",
    "    if add_candidate:\n",
    "        rock_list.append((rock_xcen, rock_ycen))\n",
    "\n",
    "            \n",
    "print(rock_list)"
   ]
  },
  {
   "cell_type": "code",
   "execution_count": null,
   "metadata": {},
   "outputs": [],
   "source": [
    "# How to continue in autonomous mode"
   ]
  }
 ],
 "metadata": {
  "kernelspec": {
   "display_name": "Python [conda env:RoboND]",
   "language": "python",
   "name": "conda-env-RoboND-py"
  },
  "language_info": {
   "codemirror_mode": {
    "name": "ipython",
    "version": 3
   },
   "file_extension": ".py",
   "mimetype": "text/x-python",
   "name": "python",
   "nbconvert_exporter": "python",
   "pygments_lexer": "ipython3",
   "version": "3.5.2"
  },
  "widgets": {
   "state": {},
   "version": "1.1.2"
  }
 },
 "nbformat": 4,
 "nbformat_minor": 2
}
